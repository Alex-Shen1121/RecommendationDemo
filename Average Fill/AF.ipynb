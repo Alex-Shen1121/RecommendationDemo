{
 "cells": [
  {
   "cell_type": "code",
   "execution_count": 1,
   "metadata": {},
   "outputs": [],
   "source": [
    "import pandas as pd\n",
    "import numpy as np\n",
    "import os"
   ]
  },
  {
   "cell_type": "code",
   "execution_count": 2,
   "metadata": {},
   "outputs": [
    {
     "data": {
      "text/html": [
       "<div>\n",
       "<style scoped>\n",
       "    .dataframe tbody tr th:only-of-type {\n",
       "        vertical-align: middle;\n",
       "    }\n",
       "\n",
       "    .dataframe tbody tr th {\n",
       "        vertical-align: top;\n",
       "    }\n",
       "\n",
       "    .dataframe thead th {\n",
       "        text-align: right;\n",
       "    }\n",
       "</style>\n",
       "<table border=\"1\" class=\"dataframe\">\n",
       "  <thead>\n",
       "    <tr style=\"text-align: right;\">\n",
       "      <th></th>\n",
       "      <th>user_id</th>\n",
       "      <th>item_id</th>\n",
       "      <th>rating</th>\n",
       "      <th>timestamp</th>\n",
       "    </tr>\n",
       "  </thead>\n",
       "  <tbody>\n",
       "    <tr>\n",
       "      <th>0</th>\n",
       "      <td>1</td>\n",
       "      <td>3</td>\n",
       "      <td>4</td>\n",
       "      <td>878542960</td>\n",
       "    </tr>\n",
       "    <tr>\n",
       "      <th>1</th>\n",
       "      <td>1</td>\n",
       "      <td>4</td>\n",
       "      <td>3</td>\n",
       "      <td>876893119</td>\n",
       "    </tr>\n",
       "    <tr>\n",
       "      <th>2</th>\n",
       "      <td>1</td>\n",
       "      <td>5</td>\n",
       "      <td>3</td>\n",
       "      <td>889751712</td>\n",
       "    </tr>\n",
       "    <tr>\n",
       "      <th>3</th>\n",
       "      <td>1</td>\n",
       "      <td>6</td>\n",
       "      <td>5</td>\n",
       "      <td>887431973</td>\n",
       "    </tr>\n",
       "    <tr>\n",
       "      <th>4</th>\n",
       "      <td>1</td>\n",
       "      <td>7</td>\n",
       "      <td>4</td>\n",
       "      <td>875071561</td>\n",
       "    </tr>\n",
       "  </tbody>\n",
       "</table>\n",
       "</div>"
      ],
      "text/plain": [
       "   user_id  item_id  rating  timestamp\n",
       "0        1        3       4  878542960\n",
       "1        1        4       3  876893119\n",
       "2        1        5       3  889751712\n",
       "3        1        6       5  887431973\n",
       "4        1        7       4  875071561"
      ]
     },
     "execution_count": 2,
     "metadata": {},
     "output_type": "execute_result"
    }
   ],
   "source": [
    "data = pd.read_csv('./data/u2.base', sep='\\t', names=['user_id', 'item_id', 'rating', 'timestamp'])\n",
    "test = pd.read_csv('./data/u2.test', sep='\\t', names=['user_id', 'item_id', 'rating', 'timestamp'])\n",
    "data.head()\n",
    "# test.head()"
   ]
  },
  {
   "cell_type": "code",
   "execution_count": 3,
   "metadata": {},
   "outputs": [
    {
     "name": "stdout",
     "output_type": "stream",
     "text": [
      "[[0. 0. 4. ... 0. 0. 0.]\n",
      " [0. 0. 0. ... 0. 0. 0.]\n",
      " [0. 0. 0. ... 0. 0. 0.]\n",
      " ...\n",
      " [5. 0. 0. ... 0. 0. 0.]\n",
      " [0. 0. 0. ... 0. 0. 0.]\n",
      " [0. 5. 0. ... 0. 0. 0.]]\n"
     ]
    }
   ],
   "source": [
    "# 初始化\n",
    "userNum = 943\n",
    "itemNum = 1682\n",
    "R = np.zeros((userNum, itemNum))    \n",
    "\n",
    "# 将u2.base的数据存入矩阵\n",
    "for row in data.itertuples():\n",
    "    userID,  itemID, rating = row[1]-1, row[2]-1, row[3]\n",
    "    R[userID, itemID] = rating \n",
    "\n",
    "print(R)"
   ]
  },
  {
   "cell_type": "code",
   "execution_count": 4,
   "metadata": {},
   "outputs": [],
   "source": [
    "# 一些统计量及计算公式\n",
    "\n",
    "# 是否有评分\n",
    "# y_ui[i][j] --- 用户i对物品j是否有评分\n",
    "y_ui = np.zeros((userNum, itemNum))\n",
    "for i in range(len(R)):\n",
    "    for j in range(len(R[i])):\n",
    "        if R[i][j] != 0:\n",
    "            y_ui[i][j] = 1\n",
    "\n",
    "# 物品平均评分\n",
    "r = np.sum(y_ui * R) / np.sum(y_ui)\n",
    "\n",
    "# 用户平均评分\n",
    "# r_u[i, 0] --- 用户i的平均评分\n",
    "r_u = np.zeros((userNum, 1))\n",
    "for i in range(userNum):\n",
    "    if np.sum(y_ui[i, :]) == 0:\n",
    "        r_u[i] = r\n",
    "    else:\n",
    "        r_u[i] = np.sum(y_ui[i, :] * R[i, :]) / np.sum(y_ui[i, :])\n",
    "\n",
    "# 物品平均评分\n",
    "# r_i[i, 0] --- 物品i的平均评分\n",
    "r_i = np.zeros((itemNum, 1))\n",
    "for i in range(itemNum):\n",
    "    if np.sum(y_ui[:, i]) == 0:\n",
    "        r_i[i] = r\n",
    "    else: \n",
    "        r_i[i] = np.sum(R[:, i]) / np.sum(y_ui[:, i])\n",
    "\n",
    "# 用户对物品的评分偏差\n",
    "# b_u[i, 0] --- 用户i对所有物品的评分偏差\n",
    "b_u = np.zeros((userNum, 1))\n",
    "for i in range(userNum):\n",
    "    if np.sum(y_ui[i, :]) == 0:\n",
    "        continue\n",
    "    b_u[i] = np.sum(y_ui[i, :] * (R[i, :] - r_i[:, 0])) / np.sum(y_ui[i, :])\n",
    "   \n",
    "# 物品对用户的评分偏差\n",
    "# b_i[i, 0] --- 物品i对所有用户的评分偏差 \n",
    "b_i = np.zeros((itemNum, 1))\n",
    "for i in range(itemNum):\n",
    "    if np.sum(y_ui[:, i]) == 0:\n",
    "        continue\n",
    "    b_i[i] = np.sum(y_ui[:, i] * (R[:, i] - r_u[:, 0])) / np.sum(y_ui[:, i])"
   ]
  },
  {
   "cell_type": "code",
   "execution_count": 5,
   "metadata": {},
   "outputs": [],
   "source": [
    "# user average\n",
    "user_average_matrix = R.copy()\n",
    "for i in range(len(user_average_matrix)):\n",
    "    for j in range(len(user_average_matrix[i])):\n",
    "        if y_ui[i][j] == 0:\n",
    "            user_average_matrix[i][j] = r_u[i]\n",
    "            \n",
    "# item average\n",
    "item_average_matrix = R.copy()\n",
    "for i in range(len(item_average_matrix)):\n",
    "    for j in range(len(item_average_matrix[i])):\n",
    "        if y_ui[i][j] == 0:\n",
    "            item_average_matrix[i][j] = r_i[j]\n",
    "            \n",
    "# mean of user average and item average\n",
    "mean_of_user_and_item_average_matrix = R.copy()\n",
    "for i in range(len(mean_of_user_and_item_average_matrix)):\n",
    "    for j in range(len(mean_of_user_and_item_average_matrix[i])):\n",
    "        if y_ui[i][j] == 0:\n",
    "            mean_of_user_and_item_average_matrix[i][j] = (r_u[i] + r_i[j]) / 2\n",
    "            \n",
    "# user bias and item average\n",
    "user_bias_and_item_average_matrix = R.copy()\n",
    "for i in range(len(user_bias_and_item_average_matrix)):\n",
    "    for j in range(len(user_bias_and_item_average_matrix[i])):\n",
    "        if y_ui[i][j] == 0:\n",
    "            user_bias_and_item_average_matrix[i][j] = b_u[i] + r_i[j]\n",
    "            \n",
    "# user average and item bias\n",
    "user_average_and_item_bias_matrix = R.copy()\n",
    "for i in range(len(user_average_and_item_bias_matrix)):\n",
    "    for j in range(len(user_average_and_item_bias_matrix[i])):\n",
    "        if y_ui[i][j] == 0:\n",
    "            user_average_and_item_bias_matrix[i][j] = r_u[i] + b_i[j]\n",
    "            \n",
    "# global average, user bias and item bias\n",
    "global_average_user_bias_and_item_bias_matrix = R.copy()\n",
    "for i in range(len(global_average_user_bias_and_item_bias_matrix)):\n",
    "    for j in range(len(global_average_user_bias_and_item_bias_matrix[i])):\n",
    "        if y_ui[i][j] == 0:\n",
    "            global_average_user_bias_and_item_bias_matrix[i][j] = r + b_u[i] + b_i[j]"
   ]
  },
  {
   "cell_type": "code",
   "execution_count": 6,
   "metadata": {},
   "outputs": [
    {
     "name": "stdout",
     "output_type": "stream",
     "text": [
      "user_average_matrix MAE:  0.8383401457987351\n",
      "item_average_matrix MAE:  0.8206951490543668\n",
      "mean_of_user_and_item_average_matrix MAE:  0.79740308955009\n",
      "user_bias_and_item_average_matrix MAE:  0.7469592188188907\n",
      "user_average_and_item_bias_matrix MAE:  0.7596960148170049\n",
      "global_average_user_bias_and_item_bias_matrix MAE:  0.7531006024906748\n"
     ]
    }
   ],
   "source": [
    "def var_name(var,all_var=locals()):\n",
    "    return [var_name for var_name in all_var if all_var[var_name] is var][0]\n",
    "\n",
    "def MAE(matrix, test):\n",
    "    sum = 0\n",
    "    for row in test.itertuples():\n",
    "        userID,  itemID, rating = row[1]-1, row[2]-1, row[3]\n",
    "        sum += abs(matrix[userID, itemID] - rating)\n",
    "    print(var_name(matrix), 'MAE: ' , sum / len(test))\n",
    "\n",
    "MAE(user_average_matrix, test)\n",
    "MAE(item_average_matrix, test)\n",
    "MAE(mean_of_user_and_item_average_matrix, test)\n",
    "MAE(user_bias_and_item_average_matrix, test)\n",
    "MAE(user_average_and_item_bias_matrix, test)\n",
    "MAE(global_average_user_bias_and_item_bias_matrix, test)"
   ]
  }
 ],
 "metadata": {
  "kernelspec": {
   "display_name": "Python 3.9.7 ('base')",
   "language": "python",
   "name": "python3"
  },
  "language_info": {
   "codemirror_mode": {
    "name": "ipython",
    "version": 3
   },
   "file_extension": ".py",
   "mimetype": "text/x-python",
   "name": "python",
   "nbconvert_exporter": "python",
   "pygments_lexer": "ipython3",
   "version": "3.9.7"
  },
  "orig_nbformat": 4,
  "vscode": {
   "interpreter": {
    "hash": "2b38f256b5e5cfcb08c8fab1bb2c0ed1d264b1b0baf1af9aa926f047321c09a2"
   }
  }
 },
 "nbformat": 4,
 "nbformat_minor": 2
}
