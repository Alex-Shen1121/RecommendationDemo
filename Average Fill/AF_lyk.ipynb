{
 "cells": [
  {
   "cell_type": "code",
   "execution_count": null,
   "metadata": {},
   "outputs": [],
   "source": [
    "import pandas as pd\n",
    "import numpy as np\n",
    "\n",
    "base = pd.read_csv('data/u2.base', sep='\\t', names=['user_id', 'item_id', 'rating', 'timestamp'])\n",
    "test = pd.read_csv('data/u2.test', sep='\\t', names=['user_id', 'item_id', 'rating', 'timestamp'])"
   ]
  },
  {
   "cell_type": "code",
   "execution_count": 2,
   "metadata": {},
   "outputs": [
    {
     "data": {
      "text/plain": "   user_id  item_id  rating  timestamp\n0        1        3       4  878542960\n1        1        4       3  876893119\n2        1        5       3  889751712\n3        1        6       5  887431973\n4        1        7       4  875071561",
      "text/html": "<div>\n<style scoped>\n    .dataframe tbody tr th:only-of-type {\n        vertical-align: middle;\n    }\n\n    .dataframe tbody tr th {\n        vertical-align: top;\n    }\n\n    .dataframe thead th {\n        text-align: right;\n    }\n</style>\n<table border=\"1\" class=\"dataframe\">\n  <thead>\n    <tr style=\"text-align: right;\">\n      <th></th>\n      <th>user_id</th>\n      <th>item_id</th>\n      <th>rating</th>\n      <th>timestamp</th>\n    </tr>\n  </thead>\n  <tbody>\n    <tr>\n      <th>0</th>\n      <td>1</td>\n      <td>3</td>\n      <td>4</td>\n      <td>878542960</td>\n    </tr>\n    <tr>\n      <th>1</th>\n      <td>1</td>\n      <td>4</td>\n      <td>3</td>\n      <td>876893119</td>\n    </tr>\n    <tr>\n      <th>2</th>\n      <td>1</td>\n      <td>5</td>\n      <td>3</td>\n      <td>889751712</td>\n    </tr>\n    <tr>\n      <th>3</th>\n      <td>1</td>\n      <td>6</td>\n      <td>5</td>\n      <td>887431973</td>\n    </tr>\n    <tr>\n      <th>4</th>\n      <td>1</td>\n      <td>7</td>\n      <td>4</td>\n      <td>875071561</td>\n    </tr>\n  </tbody>\n</table>\n</div>"
     },
     "execution_count": 2,
     "metadata": {},
     "output_type": "execute_result"
    }
   ],
   "source": [
    "base.head()"
   ]
  },
  {
   "cell_type": "code",
   "execution_count": null,
   "metadata": {},
   "outputs": [],
   "source": [
    "base['user_id'].max()"
   ]
  },
  {
   "cell_type": "code",
   "execution_count": null,
   "metadata": {},
   "outputs": [],
   "source": [
    "base['item_id'].max()"
   ]
  },
  {
   "cell_type": "markdown",
   "metadata": {},
   "source": [
    "## Notations\n",
    "\n",
    "$r_{ui}$ : observed rating of user u on item\n",
    "\n",
    "$\\hat{r}_{ui}$ : predicted rating of user u on item i\n",
    "\n",
    "$n$ : user_number\n",
    "\n",
    "$m$ : item_number\n",
    "\n",
    "$p$ : observed_ratings_number\n",
    "\n",
    "$\\frac{p}{nm}$ : density (or sparsity)"
   ]
  },
  {
   "cell_type": "markdown",
   "metadata": {},
   "source": [
    "## Problem Definition\n",
    "\n",
    "Input : training data (observated records $R$ )\n",
    "\n",
    "Output : estimate all rating $\\hat{r}_{ui}$ in unobserved records\n",
    "\n",
    "Evaluation : differnence between predicted $\\hat{r}_{ui}$ and real $r_{ui}$"
   ]
  },
  {
   "cell_type": "markdown",
   "metadata": {},
   "source": [
    "## Statistics\n",
    "\n",
    "global rating_ave : $\\bar{r}$ 全局均值\n",
    "\n",
    "u rating_ave : $\\bar{r}_u$ 用户u的偏好均值\n",
    "\n",
    "i rating_ave : $\\bar{r}_i$ 物品i的被偏好均值\n",
    "\n",
    "bias of u : 对于u，每个u打过分的商品i，会因为u的偏好而更宽松/严格吗\n",
    "\n",
    "bias of i : 对于i，每个给i打分的用户u，会因为i的性质而更受欢迎/不欢迎吗"
   ]
  },
  {
   "cell_type": "markdown",
   "metadata": {},
   "source": [
    "## Prediction Rules\n",
    "\n",
    "1. user_ave : $\\hat{r}_{ui} = \\bar{r}_{u} $ 取user对所有item的偏好程度均值\n",
    "\n",
    "\n",
    "2. item_ave : $\\hat{r}_{ui} = \\bar{r}_{i} $ 取item被所有user的偏好程度均值\n",
    "\n",
    "3. (user_ave+item_ave)/2\n",
    "\n",
    "4. $b_u+\\bar{r}_i$\n",
    "\n",
    "5. $b_i+\\bar{r}_u$\n",
    "\n",
    "6. 全局均值+用户bias+物品bias $\\bar{r}+b_u+b_i$"
   ]
  },
  {
   "cell_type": "code",
   "execution_count": null,
   "metadata": {},
   "outputs": [],
   "source": [
    "user_num = base['user_id'].max()\n",
    "item_num = base['item_id'].max()\n",
    "record_num = base.shape[0]\n",
    "matrix = np.zeros((user_num, item_num))\n",
    "for i in range(record_num):\n",
    "    matrix[base.iloc[i, 0]-1, base.iloc[i, 1]-1] = base.iloc[i, 2]"
   ]
  },
  {
   "cell_type": "code",
   "execution_count": null,
   "metadata": {},
   "outputs": [],
   "source": [
    "raw_matrix = matrix.copy()\n",
    "user_ave = np.zeros(user_num)\n",
    "item_ave = np.zeros(item_num)\n",
    "\n",
    "for i in range(user_num):\n",
    "    rating_sum = matrix[i].sum()\n",
    "    rating_count = (matrix[i] != 0).sum()\n",
    "    if rating_count != 0:\n",
    "        user_ave[i] = rating_sum / rating_count\n",
    "\n",
    "for i in range(item_num):\n",
    "    rating_sum = matrix[:, i].sum()\n",
    "    rating_count = (matrix[:, i] != 0).sum()\n",
    "    if rating_count != 0:\n",
    "        item_ave[i] = rating_sum / rating_count\n",
    "\n",
    "global_ave = matrix.sum() / (matrix != 0).sum()"
   ]
  },
  {
   "cell_type": "code",
   "execution_count": null,
   "metadata": {},
   "outputs": [],
   "source": [
    "user_bias = np.zeros(user_num)\n",
    "item_bias = np.zeros(item_num)\n",
    "\n",
    "for i in range(user_num):\n",
    "    user_bias[i] = (matrix[i].sum() - (matrix[i]!=0).T.dot(item_ave))/(matrix[i]!=0).sum()\n",
    "\n",
    "for i in range(item_num):\n",
    "    item_bias[i] = (matrix[:, i].sum() - (matrix[:, i]!=0).dot(user_ave))/(matrix[:, i]!=0).sum()"
   ]
  },
  {
   "cell_type": "code",
   "execution_count": null,
   "metadata": {},
   "outputs": [],
   "source": [
    "max(user_bias)"
   ]
  },
  {
   "cell_type": "code",
   "execution_count": null,
   "metadata": {},
   "outputs": [],
   "source": []
  }
 ],
 "metadata": {
  "kernelspec": {
   "display_name": "Python 3.8.13 ('deeplearning')",
   "language": "python",
   "name": "python3"
  },
  "language_info": {
   "codemirror_mode": {
    "name": "ipython",
    "version": 3
   },
   "file_extension": ".py",
   "mimetype": "text/x-python",
   "name": "python",
   "nbconvert_exporter": "python",
   "pygments_lexer": "ipython3",
   "version": "3.8.13"
  },
  "orig_nbformat": 4,
  "vscode": {
   "interpreter": {
    "hash": "1c2a939a08dab58cc7efeef7e9bb0166488cdefc3a69c827fa7f16a8975f8f28"
   }
  }
 },
 "nbformat": 4,
 "nbformat_minor": 2
}
